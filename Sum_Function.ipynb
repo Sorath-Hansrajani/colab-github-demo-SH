{
  "nbformat": 4,
  "nbformat_minor": 0,
  "metadata": {
    "colab": {
      "provenance": []
    },
    "kernelspec": {
      "name": "python3",
      "display_name": "Python 3"
    },
    "language_info": {
      "name": "python"
    }
  },
  "cells": [
    {
      "cell_type": "code",
      "execution_count": 1,
      "metadata": {
        "id": "kaiRgfBPgg29"
      },
      "outputs": [],
      "source": [
        "# Create a sum function for adding 2 numbers\n",
        "def sum(a, b):\n",
        "    return a + b\n"
      ]
    },
    {
      "cell_type": "code",
      "source": [
        "sum(2,3)"
      ],
      "metadata": {
        "id": "iym3yBmUgqEu",
        "outputId": "a22b6ccd-9aef-41ba-d857-d82b39b02929",
        "colab": {
          "base_uri": "https://localhost:8080/"
        }
      },
      "execution_count": 2,
      "outputs": [
        {
          "output_type": "execute_result",
          "data": {
            "text/plain": [
              "5"
            ]
          },
          "metadata": {},
          "execution_count": 2
        }
      ]
    }
  ]
}